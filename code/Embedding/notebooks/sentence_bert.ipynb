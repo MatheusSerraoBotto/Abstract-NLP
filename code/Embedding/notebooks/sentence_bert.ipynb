{
 "cells": [
  {
   "cell_type": "code",
   "execution_count": 1,
   "metadata": {},
   "outputs": [],
   "source": [
    "import pickle\n",
    "import random\n",
    "import numpy as np\n",
    "\n",
    "with open('../tokens_v2', 'rb') as pickle_file:\n",
    "    tokenized_sent = pickle.load(pickle_file)\n",
    "\n",
    "random.shuffle(tokenized_sent)\n",
    "\n",
    "def cosine(u, v):\n",
    "    return np.dot(u, v) / (np.linalg.norm(u) * np.linalg.norm(v))\n",
    "\n",
    "# test_tokens = tokenized_sent[:10000]\n",
    "train_tokens = [' '.join(token[2]) for token in tokenized_sent]"
   ]
  },
  {
   "cell_type": "code",
   "execution_count": 2,
   "metadata": {},
   "outputs": [
    {
     "name": "stdout",
     "output_type": "stream",
     "text": [
      "Requirement already satisfied: sentence-transformers in c:\\users\\m.serrao\\miniconda3\\envs\\emb\\lib\\site-packages (2.2.2)\n",
      "Requirement already satisfied: scikit-learn in c:\\users\\m.serrao\\miniconda3\\envs\\emb\\lib\\site-packages (from sentence-transformers) (1.1.2)\n",
      "Requirement already satisfied: numpy in c:\\users\\m.serrao\\miniconda3\\envs\\emb\\lib\\site-packages (from sentence-transformers) (1.23.2)\n",
      "Requirement already satisfied: transformers<5.0.0,>=4.6.0 in c:\\users\\m.serrao\\miniconda3\\envs\\emb\\lib\\site-packages (from sentence-transformers) (4.21.1)\n",
      "Requirement already satisfied: torchvision in c:\\users\\m.serrao\\miniconda3\\envs\\emb\\lib\\site-packages (from sentence-transformers) (0.13.1)\n",
      "Requirement already satisfied: huggingface-hub>=0.4.0 in c:\\users\\m.serrao\\miniconda3\\envs\\emb\\lib\\site-packages (from sentence-transformers) (0.8.1)\n",
      "Requirement already satisfied: torch>=1.6.0 in c:\\users\\m.serrao\\miniconda3\\envs\\emb\\lib\\site-packages (from sentence-transformers) (1.12.1)\n",
      "Requirement already satisfied: scipy in c:\\users\\m.serrao\\miniconda3\\envs\\emb\\lib\\site-packages (from sentence-transformers) (1.9.0)\n",
      "Requirement already satisfied: nltk in c:\\users\\m.serrao\\miniconda3\\envs\\emb\\lib\\site-packages (from sentence-transformers) (3.7)\n",
      "Requirement already satisfied: sentencepiece in c:\\users\\m.serrao\\miniconda3\\envs\\emb\\lib\\site-packages (from sentence-transformers) (0.1.97)\n",
      "Requirement already satisfied: tqdm in c:\\users\\m.serrao\\miniconda3\\envs\\emb\\lib\\site-packages (from sentence-transformers) (4.64.0)\n",
      "Requirement already satisfied: pyyaml>=5.1 in c:\\users\\m.serrao\\miniconda3\\envs\\emb\\lib\\site-packages (from huggingface-hub>=0.4.0->sentence-transformers) (6.0)\n",
      "Requirement already satisfied: filelock in c:\\users\\m.serrao\\miniconda3\\envs\\emb\\lib\\site-packages (from huggingface-hub>=0.4.0->sentence-transformers) (3.8.0)\n",
      "Requirement already satisfied: packaging>=20.9 in c:\\users\\m.serrao\\miniconda3\\envs\\emb\\lib\\site-packages (from huggingface-hub>=0.4.0->sentence-transformers) (21.3)\n",
      "Requirement already satisfied: typing-extensions>=3.7.4.3 in c:\\users\\m.serrao\\miniconda3\\envs\\emb\\lib\\site-packages (from huggingface-hub>=0.4.0->sentence-transformers) (4.3.0)\n",
      "Requirement already satisfied: requests in c:\\users\\m.serrao\\miniconda3\\envs\\emb\\lib\\site-packages (from huggingface-hub>=0.4.0->sentence-transformers) (2.28.1)\n",
      "Requirement already satisfied: regex!=2019.12.17 in c:\\users\\m.serrao\\miniconda3\\envs\\emb\\lib\\site-packages (from transformers<5.0.0,>=4.6.0->sentence-transformers) (2022.8.17)\n",
      "Requirement already satisfied: tokenizers!=0.11.3,<0.13,>=0.11.1 in c:\\users\\m.serrao\\miniconda3\\envs\\emb\\lib\\site-packages (from transformers<5.0.0,>=4.6.0->sentence-transformers) (0.12.1)\n",
      "Requirement already satisfied: colorama in c:\\users\\m.serrao\\miniconda3\\envs\\emb\\lib\\site-packages (from tqdm->sentence-transformers) (0.4.5)\n",
      "Requirement already satisfied: click in c:\\users\\m.serrao\\miniconda3\\envs\\emb\\lib\\site-packages (from nltk->sentence-transformers) (8.1.3)\n",
      "Requirement already satisfied: joblib in c:\\users\\m.serrao\\miniconda3\\envs\\emb\\lib\\site-packages (from nltk->sentence-transformers) (1.1.0)\n",
      "Requirement already satisfied: threadpoolctl>=2.0.0 in c:\\users\\m.serrao\\miniconda3\\envs\\emb\\lib\\site-packages (from scikit-learn->sentence-transformers) (3.1.0)\n",
      "Requirement already satisfied: pillow!=8.3.*,>=5.3.0 in c:\\users\\m.serrao\\miniconda3\\envs\\emb\\lib\\site-packages (from torchvision->sentence-transformers) (9.2.0)\n",
      "Requirement already satisfied: pyparsing!=3.0.5,>=2.0.2 in c:\\users\\m.serrao\\miniconda3\\envs\\emb\\lib\\site-packages (from packaging>=20.9->huggingface-hub>=0.4.0->sentence-transformers) (3.0.9)\n",
      "Requirement already satisfied: idna<4,>=2.5 in c:\\users\\m.serrao\\miniconda3\\envs\\emb\\lib\\site-packages (from requests->huggingface-hub>=0.4.0->sentence-transformers) (3.3)\n",
      "Requirement already satisfied: certifi>=2017.4.17 in c:\\users\\m.serrao\\miniconda3\\envs\\emb\\lib\\site-packages (from requests->huggingface-hub>=0.4.0->sentence-transformers) (2022.6.15)\n",
      "Requirement already satisfied: charset-normalizer<3,>=2 in c:\\users\\m.serrao\\miniconda3\\envs\\emb\\lib\\site-packages (from requests->huggingface-hub>=0.4.0->sentence-transformers) (2.1.0)\n",
      "Requirement already satisfied: urllib3<1.27,>=1.21.1 in c:\\users\\m.serrao\\miniconda3\\envs\\emb\\lib\\site-packages (from requests->huggingface-hub>=0.4.0->sentence-transformers) (1.26.11)\n"
     ]
    }
   ],
   "source": [
    "!pip install sentence-transformers"
   ]
  },
  {
   "cell_type": "code",
   "execution_count": 3,
   "metadata": {},
   "outputs": [
    {
     "name": "stderr",
     "output_type": "stream",
     "text": [
      "c:\\Users\\m.serrao\\Miniconda3\\envs\\emb\\lib\\site-packages\\tqdm\\auto.py:22: TqdmWarning: IProgress not found. Please update jupyter and ipywidgets. See https://ipywidgets.readthedocs.io/en/stable/user_install.html\n",
      "  from .autonotebook import tqdm as notebook_tqdm\n"
     ]
    }
   ],
   "source": [
    "from sentence_transformers import SentenceTransformer\n",
    "model = SentenceTransformer('bert-base-nli-mean-tokens')"
   ]
  },
  {
   "cell_type": "code",
   "execution_count": 4,
   "metadata": {},
   "outputs": [],
   "source": [
    "sentence_embeddings = model.encode(train_tokens)"
   ]
  },
  {
   "cell_type": "code",
   "execution_count": 5,
   "metadata": {},
   "outputs": [],
   "source": [
    "import numpy as np\n",
    "import pandas as pd\n",
    "results = []\n",
    "for i, token in enumerate(tokenized_sent):\n",
    "    class_token = token[1]\n",
    "    token_embedding = sentence_embeddings[i]\n",
    "    # model.encode([' '.join(token[2])])[0] \n",
    "\n",
    "    row = np.append(token_embedding, [class_token])\n",
    "    results.append(row)\n",
    "\n",
    "df = pd.DataFrame(results)\n",
    "df.to_csv('../dataframes/sentence_bert_embedding.csv', index=False, encoding='utf-8')"
   ]
  }
 ],
 "metadata": {
  "kernelspec": {
   "display_name": "Python 3.10.4 ('emb')",
   "language": "python",
   "name": "python3"
  },
  "language_info": {
   "codemirror_mode": {
    "name": "ipython",
    "version": 3
   },
   "file_extension": ".py",
   "mimetype": "text/x-python",
   "name": "python",
   "nbconvert_exporter": "python",
   "pygments_lexer": "ipython3",
   "version": "3.10.4"
  },
  "orig_nbformat": 4,
  "vscode": {
   "interpreter": {
    "hash": "1d6f8279d2597ff45ee770ed4342a0dece014d3ce45da13aa807c7d2ae1a3f5a"
   }
  }
 },
 "nbformat": 4,
 "nbformat_minor": 2
}
