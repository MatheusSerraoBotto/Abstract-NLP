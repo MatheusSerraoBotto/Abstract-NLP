{
 "cells": [
  {
   "cell_type": "code",
   "execution_count": 1,
   "metadata": {},
   "outputs": [],
   "source": [
    "import pickle5 as pickle\n",
    "import random\n",
    "import numpy as np\n",
    "\n",
    "with open('../tokens', 'rb') as pickle_file:\n",
    "    tokenized_sent = pickle.load(pickle_file)\n",
    "\n",
    "random.shuffle(tokenized_sent)\n",
    "\n",
    "def cosine(u, v):\n",
    "    return np.dot(u, v) / (np.linalg.norm(u) * np.linalg.norm(v))\n",
    "\n",
    "test_tokens = tokenized_sent[:10000]\n",
    "train_tokens = [' '.join(token[2]) for token in tokenized_sent[10000:]]"
   ]
  },
  {
   "cell_type": "code",
   "execution_count": 2,
   "metadata": {},
   "outputs": [
    {
     "name": "stdout",
     "output_type": "stream",
     "text": [
      "Defaulting to user installation because normal site-packages is not writeable\n",
      "Requirement already satisfied: tensorflow-gpu in /home/jk/.local/lib/python3.8/site-packages (2.8.0)\n",
      "Requirement already satisfied: numpy>=1.20 in /home/jk/.local/lib/python3.8/site-packages (from tensorflow-gpu) (1.22.3)\n",
      "Requirement already satisfied: gast>=0.2.1 in /home/jk/.local/lib/python3.8/site-packages (from tensorflow-gpu) (0.5.3)\n",
      "Requirement already satisfied: grpcio<2.0,>=1.24.3 in /home/jk/.local/lib/python3.8/site-packages (from tensorflow-gpu) (1.44.0)\n",
      "Requirement already satisfied: google-pasta>=0.1.1 in /home/jk/.local/lib/python3.8/site-packages (from tensorflow-gpu) (0.2.0)\n",
      "Requirement already satisfied: tensorboard<2.9,>=2.8 in /home/jk/.local/lib/python3.8/site-packages (from tensorflow-gpu) (2.8.0)\n",
      "Requirement already satisfied: six>=1.12.0 in /home/jk/.local/lib/python3.8/site-packages (from tensorflow-gpu) (1.16.0)\n",
      "Requirement already satisfied: libclang>=9.0.1 in /home/jk/.local/lib/python3.8/site-packages (from tensorflow-gpu) (13.0.0)\n",
      "Requirement already satisfied: wrapt>=1.11.0 in /home/jk/.local/lib/python3.8/site-packages (from tensorflow-gpu) (1.14.0)\n",
      "Requirement already satisfied: typing-extensions>=3.6.6 in /home/jk/.local/lib/python3.8/site-packages (from tensorflow-gpu) (4.1.1)\n",
      "Requirement already satisfied: flatbuffers>=1.12 in /home/jk/.local/lib/python3.8/site-packages (from tensorflow-gpu) (2.0)\n",
      "Requirement already satisfied: absl-py>=0.4.0 in /home/jk/.local/lib/python3.8/site-packages (from tensorflow-gpu) (1.0.0)\n",
      "Requirement already satisfied: tf-estimator-nightly==2.8.0.dev2021122109 in /home/jk/.local/lib/python3.8/site-packages (from tensorflow-gpu) (2.8.0.dev2021122109)\n",
      "Requirement already satisfied: keras<2.9,>=2.8.0rc0 in /home/jk/.local/lib/python3.8/site-packages (from tensorflow-gpu) (2.8.0)\n",
      "Requirement already satisfied: keras-preprocessing>=1.1.1 in /home/jk/.local/lib/python3.8/site-packages (from tensorflow-gpu) (1.1.2)\n",
      "Requirement already satisfied: h5py>=2.9.0 in /home/jk/.local/lib/python3.8/site-packages (from tensorflow-gpu) (3.6.0)\n",
      "Requirement already satisfied: setuptools in /usr/local/lib/python3.8/site-packages (from tensorflow-gpu) (57.5.0)\n",
      "Requirement already satisfied: opt-einsum>=2.3.2 in /home/jk/.local/lib/python3.8/site-packages (from tensorflow-gpu) (3.3.0)\n",
      "Requirement already satisfied: tensorflow-io-gcs-filesystem>=0.23.1 in /home/jk/.local/lib/python3.8/site-packages (from tensorflow-gpu) (0.24.0)\n",
      "Requirement already satisfied: astunparse>=1.6.0 in /home/jk/.local/lib/python3.8/site-packages (from tensorflow-gpu) (1.6.3)\n",
      "Requirement already satisfied: protobuf>=3.9.2 in /home/jk/.local/lib/python3.8/site-packages (from tensorflow-gpu) (3.20.0)\n",
      "Requirement already satisfied: termcolor>=1.1.0 in /home/jk/.local/lib/python3.8/site-packages (from tensorflow-gpu) (1.1.0)\n",
      "Requirement already satisfied: wheel<1.0,>=0.23.0 in /usr/local/lib/python3.8/site-packages (from astunparse>=1.6.0->tensorflow-gpu) (0.37.0)\n",
      "Requirement already satisfied: tensorboard-plugin-wit>=1.6.0 in /home/jk/.local/lib/python3.8/site-packages (from tensorboard<2.9,>=2.8->tensorflow-gpu) (1.8.1)\n",
      "Requirement already satisfied: google-auth<3,>=1.6.3 in /home/jk/.local/lib/python3.8/site-packages (from tensorboard<2.9,>=2.8->tensorflow-gpu) (2.6.5)\n",
      "Requirement already satisfied: werkzeug>=0.11.15 in /home/jk/.local/lib/python3.8/site-packages (from tensorboard<2.9,>=2.8->tensorflow-gpu) (2.1.1)\n",
      "Requirement already satisfied: tensorboard-data-server<0.7.0,>=0.6.0 in /home/jk/.local/lib/python3.8/site-packages (from tensorboard<2.9,>=2.8->tensorflow-gpu) (0.6.1)\n",
      "Requirement already satisfied: requests<3,>=2.21.0 in /home/jk/.local/lib/python3.8/site-packages (from tensorboard<2.9,>=2.8->tensorflow-gpu) (2.27.1)\n",
      "Requirement already satisfied: google-auth-oauthlib<0.5,>=0.4.1 in /home/jk/.local/lib/python3.8/site-packages (from tensorboard<2.9,>=2.8->tensorflow-gpu) (0.4.6)\n",
      "Requirement already satisfied: markdown>=2.6.8 in /home/jk/.local/lib/python3.8/site-packages (from tensorboard<2.9,>=2.8->tensorflow-gpu) (3.3.6)\n",
      "Requirement already satisfied: pyasn1-modules>=0.2.1 in /home/jk/.local/lib/python3.8/site-packages (from google-auth<3,>=1.6.3->tensorboard<2.9,>=2.8->tensorflow-gpu) (0.2.8)\n",
      "Requirement already satisfied: rsa<5,>=3.1.4 in /home/jk/.local/lib/python3.8/site-packages (from google-auth<3,>=1.6.3->tensorboard<2.9,>=2.8->tensorflow-gpu) (4.8)\n",
      "Requirement already satisfied: cachetools<6.0,>=2.0.0 in /home/jk/.local/lib/python3.8/site-packages (from google-auth<3,>=1.6.3->tensorboard<2.9,>=2.8->tensorflow-gpu) (5.0.0)\n",
      "Requirement already satisfied: requests-oauthlib>=0.7.0 in /home/jk/.local/lib/python3.8/site-packages (from google-auth-oauthlib<0.5,>=0.4.1->tensorboard<2.9,>=2.8->tensorflow-gpu) (1.3.1)\n",
      "Requirement already satisfied: importlib-metadata>=4.4 in /home/jk/.local/lib/python3.8/site-packages (from markdown>=2.6.8->tensorboard<2.9,>=2.8->tensorflow-gpu) (4.11.3)\n",
      "Requirement already satisfied: idna<4,>=2.5 in /home/jk/.local/lib/python3.8/site-packages (from requests<3,>=2.21.0->tensorboard<2.9,>=2.8->tensorflow-gpu) (3.3)\n",
      "Requirement already satisfied: urllib3<1.27,>=1.21.1 in /home/jk/.local/lib/python3.8/site-packages (from requests<3,>=2.21.0->tensorboard<2.9,>=2.8->tensorflow-gpu) (1.26.9)\n",
      "Requirement already satisfied: certifi>=2017.4.17 in /home/jk/.local/lib/python3.8/site-packages (from requests<3,>=2.21.0->tensorboard<2.9,>=2.8->tensorflow-gpu) (2021.10.8)\n",
      "Requirement already satisfied: charset-normalizer~=2.0.0 in /home/jk/.local/lib/python3.8/site-packages (from requests<3,>=2.21.0->tensorboard<2.9,>=2.8->tensorflow-gpu) (2.0.12)\n",
      "Requirement already satisfied: zipp>=0.5 in /home/jk/.local/lib/python3.8/site-packages (from importlib-metadata>=4.4->markdown>=2.6.8->tensorboard<2.9,>=2.8->tensorflow-gpu) (3.8.0)\n",
      "Requirement already satisfied: pyasn1<0.5.0,>=0.4.6 in /home/jk/.local/lib/python3.8/site-packages (from pyasn1-modules>=0.2.1->google-auth<3,>=1.6.3->tensorboard<2.9,>=2.8->tensorflow-gpu) (0.4.8)\n",
      "Requirement already satisfied: oauthlib>=3.0.0 in /home/jk/.local/lib/python3.8/site-packages (from requests-oauthlib>=0.7.0->google-auth-oauthlib<0.5,>=0.4.1->tensorboard<2.9,>=2.8->tensorflow-gpu) (3.2.0)\n",
      "Defaulting to user installation because normal site-packages is not writeable\n",
      "Requirement already satisfied: tensorflow-hub in /home/jk/.local/lib/python3.8/site-packages (0.12.0)\n",
      "Requirement already satisfied: protobuf>=3.8.0 in /home/jk/.local/lib/python3.8/site-packages (from tensorflow-hub) (3.20.0)\n",
      "Requirement already satisfied: numpy>=1.12.0 in /home/jk/.local/lib/python3.8/site-packages (from tensorflow-hub) (1.22.3)\n"
     ]
    }
   ],
   "source": [
    "!pip3 install --upgrade tensorflow-gpu\n",
    "# Install TF-Hub.\n",
    "!pip3 install tensorflow-hub"
   ]
  },
  {
   "cell_type": "code",
   "execution_count": 3,
   "metadata": {},
   "outputs": [
    {
     "name": "stderr",
     "output_type": "stream",
     "text": [
      "2022-04-18 18:12:55.986869: W tensorflow/stream_executor/platform/default/dso_loader.cc:64] Could not load dynamic library 'libcudart.so.11.0'; dlerror: libcudart.so.11.0: cannot open shared object file: No such file or directory\n",
      "2022-04-18 18:12:55.986888: I tensorflow/stream_executor/cuda/cudart_stub.cc:29] Ignore above cudart dlerror if you do not have a GPU set up on your machine.\n"
     ]
    }
   ],
   "source": [
    "import tensorflow as tf\n",
    "import tensorflow_hub as hub\n",
    "import numpy as np"
   ]
  },
  {
   "cell_type": "code",
   "execution_count": 4,
   "metadata": {},
   "outputs": [
    {
     "name": "stderr",
     "output_type": "stream",
     "text": [
      "2022-04-18 18:13:01.593511: W tensorflow/stream_executor/platform/default/dso_loader.cc:64] Could not load dynamic library 'libcuda.so.1'; dlerror: libcuda.so.1: cannot open shared object file: No such file or directory\n",
      "2022-04-18 18:13:01.593529: W tensorflow/stream_executor/cuda/cuda_driver.cc:269] failed call to cuInit: UNKNOWN ERROR (303)\n",
      "2022-04-18 18:13:01.593666: I tensorflow/stream_executor/cuda/cuda_diagnostics.cc:163] no NVIDIA GPU device is present: /dev/nvidia0 does not exist\n",
      "2022-04-18 18:13:01.594086: I tensorflow/core/platform/cpu_feature_guard.cc:151] This TensorFlow binary is optimized with oneAPI Deep Neural Network Library (oneDNN) to use the following CPU instructions in performance-critical operations:  AVX2 FMA\n",
      "To enable them in other operations, rebuild TensorFlow with the appropriate compiler flags.\n"
     ]
    },
    {
     "name": "stdout",
     "output_type": "stream",
     "text": [
      "module https://tfhub.dev/google/universal-sentence-encoder/4 loaded\n"
     ]
    }
   ],
   "source": [
    "module_url = \"https://tfhub.dev/google/universal-sentence-encoder/4\" \n",
    "model = hub.load(module_url)\n",
    "print (\"module %s loaded\" % module_url)"
   ]
  },
  {
   "cell_type": "code",
   "execution_count": 5,
   "metadata": {},
   "outputs": [
    {
     "name": "stderr",
     "output_type": "stream",
     "text": [
      "2022-04-18 18:19:41.574833: W tensorflow/core/framework/cpu_allocator_impl.cc:82] Allocation of 19993262080 exceeds 10% of free system memory.\n"
     ]
    }
   ],
   "source": [
    "sentence_embeddings = model(train_tokens)"
   ]
  },
  {
   "cell_type": "code",
   "execution_count": 6,
   "metadata": {},
   "outputs": [],
   "source": [
    "query = ' '.join(test_tokens[0][2])\n",
    "query_vec = model([query])[0]"
   ]
  },
  {
   "cell_type": "code",
   "execution_count": null,
   "metadata": {},
   "outputs": [],
   "source": [
    "for sent in train_tokens[:10]:\n",
    "  sim = cosine(query_vec, model([sent])[0])\n",
    "  print(\"Sentence = \", sent, \"; similarity = \", sim)"
   ]
  },
  {
   "cell_type": "code",
   "execution_count": 7,
   "metadata": {},
   "outputs": [],
   "source": [
    "import numpy as np\n",
    "import pandas as pd\n",
    "results = []\n",
    "\n",
    "sentences = [' '.join(token[2]) for token in tokenized_sent]\n",
    "themes = [token[1] for token in tokenized_sent]"
   ]
  },
  {
   "cell_type": "code",
   "execution_count": 8,
   "metadata": {},
   "outputs": [
    {
     "name": "stderr",
     "output_type": "stream",
     "text": [
      "2022-04-18 18:20:23.549532: W tensorflow/core/framework/cpu_allocator_impl.cc:82] Allocation of 24142300160 exceeds 10% of free system memory.\n"
     ]
    }
   ],
   "source": [
    "tokens_embedding = model(sentences) "
   ]
  },
  {
   "cell_type": "code",
   "execution_count": 9,
   "metadata": {},
   "outputs": [],
   "source": [
    "end_tokens = False\n",
    "\n",
    "gap = 5000\n",
    "offset = 0\n",
    "limit = gap\n",
    "length = len(tokens_embedding)\n",
    "\n",
    "\n",
    "first_loop = True"
   ]
  },
  {
   "cell_type": "code",
   "execution_count": 10,
   "metadata": {},
   "outputs": [],
   "source": [
    "while not end_tokens:\n",
    "\n",
    "    if limit > length:\n",
    "        limit = length\n",
    "        end_tokens = True\n",
    "    \n",
    "    sub_tokens_embedding = tokens_embedding[offset:limit]\n",
    "    results = []\n",
    "    for index, token in enumerate(sub_tokens_embedding):\n",
    "        row = np.append(token, themes[index + offset])\n",
    "        results.append(row)\n",
    "\n",
    "    df = pd.DataFrame.from_dict(results)\n",
    "\n",
    "    offset += gap\n",
    "    limit += gap\n",
    "    \n",
    "    df.to_csv('/app/Embedding/dataframes/universal_sentence_python.csv', index=False, encoding='utf-8', mode='a', header=False)"
   ]
  }
 ],
 "metadata": {
  "kernelspec": {
   "display_name": "Python 3.8.10 64-bit (windows store)",
   "language": "python",
   "name": "python3"
  },
  "language_info": {
   "codemirror_mode": {
    "name": "ipython",
    "version": 3
   },
   "file_extension": ".py",
   "mimetype": "text/x-python",
   "name": "python",
   "nbconvert_exporter": "python",
   "pygments_lexer": "ipython3",
   "version": "3.8.10"
  },
  "orig_nbformat": 4,
  "vscode": {
   "interpreter": {
    "hash": "12a3ef69f4cb2cf6c5b3cd8c148c57f60870b11f5f880d54bfa88306de5ca736"
   }
  }
 },
 "nbformat": 4,
 "nbformat_minor": 2
}
