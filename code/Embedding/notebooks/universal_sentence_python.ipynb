{
 "cells": [
  {
   "cell_type": "code",
   "execution_count": 1,
   "metadata": {},
   "outputs": [],
   "source": [
    "import pickle\n",
    "import random\n",
    "import numpy as np\n",
    "import pandas as pd\n",
    "\n",
    "with open('../tokens', 'rb') as pickle_file:\n",
    "    tokenized_sent = pickle.load(pickle_file)\n",
    "\n",
    "random.shuffle(tokenized_sent)\n",
    "\n",
    "def cosine(u, v):\n",
    "    return np.dot(u, v) / (np.linalg.norm(u) * np.linalg.norm(v))\n",
    "\n",
    "train_tokens = [' '.join(token[2]) for token in tokenized_sent]\n",
    "themes = [token[1] for token in tokenized_sent]"
   ]
  },
  {
   "cell_type": "code",
   "execution_count": 2,
   "metadata": {},
   "outputs": [
    {
     "name": "stdout",
     "output_type": "stream",
     "text": [
      "Requirement already satisfied: tensorflow-gpu in c:\\users\\m.serrao\\miniconda3\\envs\\emb\\lib\\site-packages (2.9.1)\n",
      "Requirement already satisfied: keras-preprocessing>=1.1.1 in c:\\users\\m.serrao\\miniconda3\\envs\\emb\\lib\\site-packages (from tensorflow-gpu) (1.1.2)\n",
      "Requirement already satisfied: tensorflow-estimator<2.10.0,>=2.9.0rc0 in c:\\users\\m.serrao\\miniconda3\\envs\\emb\\lib\\site-packages (from tensorflow-gpu) (2.9.0)\n",
      "Requirement already satisfied: tensorflow-io-gcs-filesystem>=0.23.1 in c:\\users\\m.serrao\\miniconda3\\envs\\emb\\lib\\site-packages (from tensorflow-gpu) (0.26.0)\n",
      "Requirement already satisfied: packaging in c:\\users\\m.serrao\\miniconda3\\envs\\emb\\lib\\site-packages (from tensorflow-gpu) (21.3)\n",
      "Requirement already satisfied: setuptools in c:\\users\\m.serrao\\miniconda3\\envs\\emb\\lib\\site-packages (from tensorflow-gpu) (61.2.0)\n",
      "Requirement already satisfied: grpcio<2.0,>=1.24.3 in c:\\users\\m.serrao\\miniconda3\\envs\\emb\\lib\\site-packages (from tensorflow-gpu) (1.47.0)\n",
      "Requirement already satisfied: six>=1.12.0 in c:\\users\\m.serrao\\miniconda3\\envs\\emb\\lib\\site-packages (from tensorflow-gpu) (1.16.0)\n",
      "Requirement already satisfied: gast<=0.4.0,>=0.2.1 in c:\\users\\m.serrao\\miniconda3\\envs\\emb\\lib\\site-packages (from tensorflow-gpu) (0.4.0)\n",
      "Requirement already satisfied: astunparse>=1.6.0 in c:\\users\\m.serrao\\miniconda3\\envs\\emb\\lib\\site-packages (from tensorflow-gpu) (1.6.3)\n",
      "Requirement already satisfied: google-pasta>=0.1.1 in c:\\users\\m.serrao\\miniconda3\\envs\\emb\\lib\\site-packages (from tensorflow-gpu) (0.2.0)\n",
      "Requirement already satisfied: tensorboard<2.10,>=2.9 in c:\\users\\m.serrao\\miniconda3\\envs\\emb\\lib\\site-packages (from tensorflow-gpu) (2.9.1)\n",
      "Requirement already satisfied: flatbuffers<2,>=1.12 in c:\\users\\m.serrao\\miniconda3\\envs\\emb\\lib\\site-packages (from tensorflow-gpu) (1.12)\n",
      "Requirement already satisfied: h5py>=2.9.0 in c:\\users\\m.serrao\\miniconda3\\envs\\emb\\lib\\site-packages (from tensorflow-gpu) (3.7.0)\n",
      "Requirement already satisfied: libclang>=13.0.0 in c:\\users\\m.serrao\\miniconda3\\envs\\emb\\lib\\site-packages (from tensorflow-gpu) (14.0.6)\n",
      "Requirement already satisfied: typing-extensions>=3.6.6 in c:\\users\\m.serrao\\miniconda3\\envs\\emb\\lib\\site-packages (from tensorflow-gpu) (4.3.0)\n",
      "Requirement already satisfied: protobuf<3.20,>=3.9.2 in c:\\users\\m.serrao\\miniconda3\\envs\\emb\\lib\\site-packages (from tensorflow-gpu) (3.19.4)\n",
      "Requirement already satisfied: wrapt>=1.11.0 in c:\\users\\m.serrao\\miniconda3\\envs\\emb\\lib\\site-packages (from tensorflow-gpu) (1.14.1)\n",
      "Requirement already satisfied: keras<2.10.0,>=2.9.0rc0 in c:\\users\\m.serrao\\miniconda3\\envs\\emb\\lib\\site-packages (from tensorflow-gpu) (2.9.0)\n",
      "Requirement already satisfied: numpy>=1.20 in c:\\users\\m.serrao\\miniconda3\\envs\\emb\\lib\\site-packages (from tensorflow-gpu) (1.23.2)\n",
      "Requirement already satisfied: termcolor>=1.1.0 in c:\\users\\m.serrao\\miniconda3\\envs\\emb\\lib\\site-packages (from tensorflow-gpu) (1.1.0)\n",
      "Requirement already satisfied: opt-einsum>=2.3.2 in c:\\users\\m.serrao\\miniconda3\\envs\\emb\\lib\\site-packages (from tensorflow-gpu) (3.3.0)\n",
      "Requirement already satisfied: absl-py>=1.0.0 in c:\\users\\m.serrao\\miniconda3\\envs\\emb\\lib\\site-packages (from tensorflow-gpu) (1.2.0)\n",
      "Requirement already satisfied: wheel<1.0,>=0.23.0 in c:\\users\\m.serrao\\miniconda3\\envs\\emb\\lib\\site-packages (from astunparse>=1.6.0->tensorflow-gpu) (0.37.1)\n",
      "Requirement already satisfied: markdown>=2.6.8 in c:\\users\\m.serrao\\miniconda3\\envs\\emb\\lib\\site-packages (from tensorboard<2.10,>=2.9->tensorflow-gpu) (3.4.1)\n",
      "Requirement already satisfied: google-auth-oauthlib<0.5,>=0.4.1 in c:\\users\\m.serrao\\miniconda3\\envs\\emb\\lib\\site-packages (from tensorboard<2.10,>=2.9->tensorflow-gpu) (0.4.6)\n",
      "Requirement already satisfied: requests<3,>=2.21.0 in c:\\users\\m.serrao\\miniconda3\\envs\\emb\\lib\\site-packages (from tensorboard<2.10,>=2.9->tensorflow-gpu) (2.28.1)\n",
      "Requirement already satisfied: google-auth<3,>=1.6.3 in c:\\users\\m.serrao\\miniconda3\\envs\\emb\\lib\\site-packages (from tensorboard<2.10,>=2.9->tensorflow-gpu) (2.10.0)\n",
      "Requirement already satisfied: tensorboard-data-server<0.7.0,>=0.6.0 in c:\\users\\m.serrao\\miniconda3\\envs\\emb\\lib\\site-packages (from tensorboard<2.10,>=2.9->tensorflow-gpu) (0.6.1)\n",
      "Requirement already satisfied: werkzeug>=1.0.1 in c:\\users\\m.serrao\\miniconda3\\envs\\emb\\lib\\site-packages (from tensorboard<2.10,>=2.9->tensorflow-gpu) (2.2.2)\n",
      "Requirement already satisfied: tensorboard-plugin-wit>=1.6.0 in c:\\users\\m.serrao\\miniconda3\\envs\\emb\\lib\\site-packages (from tensorboard<2.10,>=2.9->tensorflow-gpu) (1.8.1)\n",
      "Requirement already satisfied: pyparsing!=3.0.5,>=2.0.2 in c:\\users\\m.serrao\\miniconda3\\envs\\emb\\lib\\site-packages (from packaging->tensorflow-gpu) (3.0.9)\n",
      "Requirement already satisfied: cachetools<6.0,>=2.0.0 in c:\\users\\m.serrao\\miniconda3\\envs\\emb\\lib\\site-packages (from google-auth<3,>=1.6.3->tensorboard<2.10,>=2.9->tensorflow-gpu) (5.2.0)\n",
      "Requirement already satisfied: pyasn1-modules>=0.2.1 in c:\\users\\m.serrao\\miniconda3\\envs\\emb\\lib\\site-packages (from google-auth<3,>=1.6.3->tensorboard<2.10,>=2.9->tensorflow-gpu) (0.2.8)\n",
      "Requirement already satisfied: rsa<5,>=3.1.4 in c:\\users\\m.serrao\\miniconda3\\envs\\emb\\lib\\site-packages (from google-auth<3,>=1.6.3->tensorboard<2.10,>=2.9->tensorflow-gpu) (4.9)\n",
      "Requirement already satisfied: requests-oauthlib>=0.7.0 in c:\\users\\m.serrao\\miniconda3\\envs\\emb\\lib\\site-packages (from google-auth-oauthlib<0.5,>=0.4.1->tensorboard<2.10,>=2.9->tensorflow-gpu) (1.3.1)\n",
      "Requirement already satisfied: certifi>=2017.4.17 in c:\\users\\m.serrao\\miniconda3\\envs\\emb\\lib\\site-packages (from requests<3,>=2.21.0->tensorboard<2.10,>=2.9->tensorflow-gpu) (2022.6.15)\n",
      "Requirement already satisfied: charset-normalizer<3,>=2 in c:\\users\\m.serrao\\miniconda3\\envs\\emb\\lib\\site-packages (from requests<3,>=2.21.0->tensorboard<2.10,>=2.9->tensorflow-gpu) (2.1.0)\n",
      "Requirement already satisfied: urllib3<1.27,>=1.21.1 in c:\\users\\m.serrao\\miniconda3\\envs\\emb\\lib\\site-packages (from requests<3,>=2.21.0->tensorboard<2.10,>=2.9->tensorflow-gpu) (1.26.11)\n",
      "Requirement already satisfied: idna<4,>=2.5 in c:\\users\\m.serrao\\miniconda3\\envs\\emb\\lib\\site-packages (from requests<3,>=2.21.0->tensorboard<2.10,>=2.9->tensorflow-gpu) (3.3)\n",
      "Requirement already satisfied: MarkupSafe>=2.1.1 in c:\\users\\m.serrao\\miniconda3\\envs\\emb\\lib\\site-packages (from werkzeug>=1.0.1->tensorboard<2.10,>=2.9->tensorflow-gpu) (2.1.1)\n",
      "Requirement already satisfied: pyasn1<0.5.0,>=0.4.6 in c:\\users\\m.serrao\\miniconda3\\envs\\emb\\lib\\site-packages (from pyasn1-modules>=0.2.1->google-auth<3,>=1.6.3->tensorboard<2.10,>=2.9->tensorflow-gpu) (0.4.8)\n",
      "Requirement already satisfied: oauthlib>=3.0.0 in c:\\users\\m.serrao\\miniconda3\\envs\\emb\\lib\\site-packages (from requests-oauthlib>=0.7.0->google-auth-oauthlib<0.5,>=0.4.1->tensorboard<2.10,>=2.9->tensorflow-gpu) (3.2.0)\n",
      "Requirement already satisfied: tensorflow-hub in c:\\users\\m.serrao\\miniconda3\\envs\\emb\\lib\\site-packages (0.12.0)\n",
      "Requirement already satisfied: numpy>=1.12.0 in c:\\users\\m.serrao\\miniconda3\\envs\\emb\\lib\\site-packages (from tensorflow-hub) (1.23.2)\n",
      "Requirement already satisfied: protobuf>=3.8.0 in c:\\users\\m.serrao\\miniconda3\\envs\\emb\\lib\\site-packages (from tensorflow-hub) (3.19.4)\n"
     ]
    }
   ],
   "source": [
    "!pip3 install --upgrade tensorflow-gpu\n",
    "# Install TF-Hub.\n",
    "!pip3 install tensorflow-hub"
   ]
  },
  {
   "cell_type": "code",
   "execution_count": 3,
   "metadata": {},
   "outputs": [],
   "source": [
    "import tensorflow as tf\n",
    "import tensorflow_hub as hub\n",
    "import numpy as np"
   ]
  },
  {
   "cell_type": "code",
   "execution_count": 4,
   "metadata": {},
   "outputs": [
    {
     "name": "stdout",
     "output_type": "stream",
     "text": [
      "module https://tfhub.dev/google/universal-sentence-encoder/4 loaded\n"
     ]
    }
   ],
   "source": [
    "module_url = \"https://tfhub.dev/google/universal-sentence-encoder/4\" \n",
    "model = hub.load(module_url)\n",
    "print (\"module %s loaded\" % module_url)"
   ]
  },
  {
   "cell_type": "code",
   "execution_count": 5,
   "metadata": {},
   "outputs": [],
   "source": [
    "sentence_embeddings = model(train_tokens)"
   ]
  },
  {
   "cell_type": "code",
   "execution_count": 6,
   "metadata": {},
   "outputs": [],
   "source": [
    "tokens_embedding = model(train_tokens) "
   ]
  },
  {
   "cell_type": "code",
   "execution_count": 7,
   "metadata": {},
   "outputs": [],
   "source": [
    "end_tokens = False\n",
    "\n",
    "gap = 5000\n",
    "offset = 0\n",
    "limit = gap\n",
    "length = len(tokens_embedding)\n",
    "\n",
    "\n",
    "first_loop = True"
   ]
  },
  {
   "cell_type": "code",
   "execution_count": 8,
   "metadata": {},
   "outputs": [],
   "source": [
    "while not end_tokens:\n",
    "\n",
    "    if limit > length:\n",
    "        limit = length\n",
    "        end_tokens = True\n",
    "    \n",
    "    sub_tokens_embedding = tokens_embedding[offset:limit]\n",
    "    results = []\n",
    "    for index, token in enumerate(sub_tokens_embedding):\n",
    "        row = np.append(token, themes[index + offset])\n",
    "        results.append(row)\n",
    "\n",
    "    df = pd.DataFrame.from_dict(results)\n",
    "\n",
    "    offset += gap\n",
    "    limit += gap\n",
    "    \n",
    "    df.to_csv('../dataframes/universal_sentence_python.csv', index=False, encoding='utf-8', mode='a', header=False)"
   ]
  }
 ],
 "metadata": {
  "kernelspec": {
   "display_name": "Python 3.10.4 ('emb')",
   "language": "python",
   "name": "python3"
  },
  "language_info": {
   "codemirror_mode": {
    "name": "ipython",
    "version": 3
   },
   "file_extension": ".py",
   "mimetype": "text/x-python",
   "name": "python",
   "nbconvert_exporter": "python",
   "pygments_lexer": "ipython3",
   "version": "3.10.4"
  },
  "orig_nbformat": 4,
  "vscode": {
   "interpreter": {
    "hash": "1d6f8279d2597ff45ee770ed4342a0dece014d3ce45da13aa807c7d2ae1a3f5a"
   }
  }
 },
 "nbformat": 4,
 "nbformat_minor": 2
}
