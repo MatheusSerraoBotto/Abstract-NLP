{
 "cells": [
  {
   "cell_type": "code",
   "execution_count": 3,
   "metadata": {},
   "outputs": [],
   "source": [
    "import numpy as np\n",
    "import matplotlib.pyplot as plt\n",
    "import pandas as pd"
   ]
  },
  {
   "cell_type": "code",
   "execution_count": 5,
   "metadata": {},
   "outputs": [
    {
     "data": {
      "text/html": [
       "<div>\n",
       "<style scoped>\n",
       "    .dataframe tbody tr th:only-of-type {\n",
       "        vertical-align: middle;\n",
       "    }\n",
       "\n",
       "    .dataframe tbody tr th {\n",
       "        vertical-align: top;\n",
       "    }\n",
       "\n",
       "    .dataframe thead th {\n",
       "        text-align: right;\n",
       "    }\n",
       "</style>\n",
       "<table border=\"1\" class=\"dataframe\">\n",
       "  <thead>\n",
       "    <tr style=\"text-align: right;\">\n",
       "      <th></th>\n",
       "      <th>0</th>\n",
       "      <th>1</th>\n",
       "      <th>2</th>\n",
       "      <th>3</th>\n",
       "      <th>4</th>\n",
       "      <th>5</th>\n",
       "      <th>6</th>\n",
       "      <th>7</th>\n",
       "      <th>8</th>\n",
       "      <th>9</th>\n",
       "      <th>...</th>\n",
       "      <th>41</th>\n",
       "      <th>42</th>\n",
       "      <th>43</th>\n",
       "      <th>44</th>\n",
       "      <th>45</th>\n",
       "      <th>46</th>\n",
       "      <th>47</th>\n",
       "      <th>48</th>\n",
       "      <th>49</th>\n",
       "      <th>50</th>\n",
       "    </tr>\n",
       "  </thead>\n",
       "  <tbody>\n",
       "    <tr>\n",
       "      <th>0</th>\n",
       "      <td>-1.214745</td>\n",
       "      <td>-0.283617</td>\n",
       "      <td>-1.270768</td>\n",
       "      <td>1.537702</td>\n",
       "      <td>-0.459085</td>\n",
       "      <td>-0.993889</td>\n",
       "      <td>2.742131</td>\n",
       "      <td>1.059220</td>\n",
       "      <td>-1.893328</td>\n",
       "      <td>-1.928233</td>\n",
       "      <td>...</td>\n",
       "      <td>1.094292</td>\n",
       "      <td>-2.132212</td>\n",
       "      <td>0.469998</td>\n",
       "      <td>-0.944596</td>\n",
       "      <td>1.293732</td>\n",
       "      <td>-0.647479</td>\n",
       "      <td>0.219317</td>\n",
       "      <td>-1.710796</td>\n",
       "      <td>-0.109420</td>\n",
       "      <td>big_data</td>\n",
       "    </tr>\n",
       "    <tr>\n",
       "      <th>1</th>\n",
       "      <td>-0.239725</td>\n",
       "      <td>0.531531</td>\n",
       "      <td>2.088746</td>\n",
       "      <td>-0.950215</td>\n",
       "      <td>-0.696374</td>\n",
       "      <td>0.358628</td>\n",
       "      <td>-0.472627</td>\n",
       "      <td>0.071855</td>\n",
       "      <td>-2.446701</td>\n",
       "      <td>0.841731</td>\n",
       "      <td>...</td>\n",
       "      <td>0.208730</td>\n",
       "      <td>-2.264483</td>\n",
       "      <td>-0.659729</td>\n",
       "      <td>1.239643</td>\n",
       "      <td>-0.275169</td>\n",
       "      <td>-0.536493</td>\n",
       "      <td>-1.578909</td>\n",
       "      <td>-0.830742</td>\n",
       "      <td>-1.613818</td>\n",
       "      <td>5g</td>\n",
       "    </tr>\n",
       "    <tr>\n",
       "      <th>2</th>\n",
       "      <td>0.251089</td>\n",
       "      <td>1.065683</td>\n",
       "      <td>1.103420</td>\n",
       "      <td>-0.405558</td>\n",
       "      <td>0.289183</td>\n",
       "      <td>0.889629</td>\n",
       "      <td>-0.157562</td>\n",
       "      <td>0.810174</td>\n",
       "      <td>0.685724</td>\n",
       "      <td>-0.056801</td>\n",
       "      <td>...</td>\n",
       "      <td>-1.241523</td>\n",
       "      <td>0.386352</td>\n",
       "      <td>-0.323743</td>\n",
       "      <td>-0.911326</td>\n",
       "      <td>-1.623940</td>\n",
       "      <td>0.084220</td>\n",
       "      <td>0.276691</td>\n",
       "      <td>0.368230</td>\n",
       "      <td>1.331997</td>\n",
       "      <td>5g</td>\n",
       "    </tr>\n",
       "    <tr>\n",
       "      <th>3</th>\n",
       "      <td>-0.207214</td>\n",
       "      <td>-0.572141</td>\n",
       "      <td>-1.050872</td>\n",
       "      <td>-0.334811</td>\n",
       "      <td>-1.112067</td>\n",
       "      <td>-0.778233</td>\n",
       "      <td>1.201863</td>\n",
       "      <td>1.173641</td>\n",
       "      <td>-1.249250</td>\n",
       "      <td>0.795089</td>\n",
       "      <td>...</td>\n",
       "      <td>-0.514634</td>\n",
       "      <td>0.089595</td>\n",
       "      <td>1.131394</td>\n",
       "      <td>-1.147426</td>\n",
       "      <td>0.626237</td>\n",
       "      <td>0.194895</td>\n",
       "      <td>-0.360906</td>\n",
       "      <td>1.163492</td>\n",
       "      <td>-0.407590</td>\n",
       "      <td>cybersecurity</td>\n",
       "    </tr>\n",
       "    <tr>\n",
       "      <th>4</th>\n",
       "      <td>-0.009177</td>\n",
       "      <td>0.003597</td>\n",
       "      <td>-0.008110</td>\n",
       "      <td>0.000640</td>\n",
       "      <td>0.009924</td>\n",
       "      <td>-0.009576</td>\n",
       "      <td>0.006663</td>\n",
       "      <td>0.003818</td>\n",
       "      <td>0.003186</td>\n",
       "      <td>0.007003</td>\n",
       "      <td>...</td>\n",
       "      <td>0.004158</td>\n",
       "      <td>-0.008099</td>\n",
       "      <td>0.008873</td>\n",
       "      <td>0.004717</td>\n",
       "      <td>0.008786</td>\n",
       "      <td>0.000854</td>\n",
       "      <td>-0.009387</td>\n",
       "      <td>-0.005372</td>\n",
       "      <td>-0.002226</td>\n",
       "      <td>anxiety</td>\n",
       "    </tr>\n",
       "  </tbody>\n",
       "</table>\n",
       "<p>5 rows × 51 columns</p>\n",
       "</div>"
      ],
      "text/plain": [
       "         0         1         2         3         4         5         6   \\\n",
       "0 -1.214745 -0.283617 -1.270768  1.537702 -0.459085 -0.993889  2.742131   \n",
       "1 -0.239725  0.531531  2.088746 -0.950215 -0.696374  0.358628 -0.472627   \n",
       "2  0.251089  1.065683  1.103420 -0.405558  0.289183  0.889629 -0.157562   \n",
       "3 -0.207214 -0.572141 -1.050872 -0.334811 -1.112067 -0.778233  1.201863   \n",
       "4 -0.009177  0.003597 -0.008110  0.000640  0.009924 -0.009576  0.006663   \n",
       "\n",
       "         7         8         9   ...        41        42        43        44  \\\n",
       "0  1.059220 -1.893328 -1.928233  ...  1.094292 -2.132212  0.469998 -0.944596   \n",
       "1  0.071855 -2.446701  0.841731  ...  0.208730 -2.264483 -0.659729  1.239643   \n",
       "2  0.810174  0.685724 -0.056801  ... -1.241523  0.386352 -0.323743 -0.911326   \n",
       "3  1.173641 -1.249250  0.795089  ... -0.514634  0.089595  1.131394 -1.147426   \n",
       "4  0.003818  0.003186  0.007003  ...  0.004158 -0.008099  0.008873  0.004717   \n",
       "\n",
       "         45        46        47        48        49             50  \n",
       "0  1.293732 -0.647479  0.219317 -1.710796 -0.109420       big_data  \n",
       "1 -0.275169 -0.536493 -1.578909 -0.830742 -1.613818             5g  \n",
       "2 -1.623940  0.084220  0.276691  0.368230  1.331997             5g  \n",
       "3  0.626237  0.194895 -0.360906  1.163492 -0.407590  cybersecurity  \n",
       "4  0.008786  0.000854 -0.009387 -0.005372 -0.002226        anxiety  \n",
       "\n",
       "[5 rows x 51 columns]"
      ]
     },
     "execution_count": 5,
     "metadata": {},
     "output_type": "execute_result"
    }
   ],
   "source": [
    "dataset = pd.read_csv('../dataframes/doc2vet_embedding.csv', header=None)\n",
    "# dataset = pd.read_csv('../dataframes/infer_sent_embedding.csv')\n",
    "# dataset = pd.read_csv('../dataframes/sentence_bert_embedding.csv')\n",
    "# dataset = pd.read_csv('../dataframes/universal_sentence_python.csv')\n",
    "dataset.head()"
   ]
  },
  {
   "cell_type": "code",
   "execution_count": 6,
   "metadata": {},
   "outputs": [],
   "source": [
    "X = dataset.iloc[:, :-1].values\n",
    "y = dataset.iloc[:, -1].values\n",
    "y = pd.factorize(y)[0]"
   ]
  },
  {
   "cell_type": "code",
   "execution_count": 7,
   "metadata": {},
   "outputs": [
    {
     "data": {
      "text/html": [
       "<style>#sk-container-id-1 {color: black;background-color: white;}#sk-container-id-1 pre{padding: 0;}#sk-container-id-1 div.sk-toggleable {background-color: white;}#sk-container-id-1 label.sk-toggleable__label {cursor: pointer;display: block;width: 100%;margin-bottom: 0;padding: 0.3em;box-sizing: border-box;text-align: center;}#sk-container-id-1 label.sk-toggleable__label-arrow:before {content: \"▸\";float: left;margin-right: 0.25em;color: #696969;}#sk-container-id-1 label.sk-toggleable__label-arrow:hover:before {color: black;}#sk-container-id-1 div.sk-estimator:hover label.sk-toggleable__label-arrow:before {color: black;}#sk-container-id-1 div.sk-toggleable__content {max-height: 0;max-width: 0;overflow: hidden;text-align: left;background-color: #f0f8ff;}#sk-container-id-1 div.sk-toggleable__content pre {margin: 0.2em;color: black;border-radius: 0.25em;background-color: #f0f8ff;}#sk-container-id-1 input.sk-toggleable__control:checked~div.sk-toggleable__content {max-height: 200px;max-width: 100%;overflow: auto;}#sk-container-id-1 input.sk-toggleable__control:checked~label.sk-toggleable__label-arrow:before {content: \"▾\";}#sk-container-id-1 div.sk-estimator input.sk-toggleable__control:checked~label.sk-toggleable__label {background-color: #d4ebff;}#sk-container-id-1 div.sk-label input.sk-toggleable__control:checked~label.sk-toggleable__label {background-color: #d4ebff;}#sk-container-id-1 input.sk-hidden--visually {border: 0;clip: rect(1px 1px 1px 1px);clip: rect(1px, 1px, 1px, 1px);height: 1px;margin: -1px;overflow: hidden;padding: 0;position: absolute;width: 1px;}#sk-container-id-1 div.sk-estimator {font-family: monospace;background-color: #f0f8ff;border: 1px dotted black;border-radius: 0.25em;box-sizing: border-box;margin-bottom: 0.5em;}#sk-container-id-1 div.sk-estimator:hover {background-color: #d4ebff;}#sk-container-id-1 div.sk-parallel-item::after {content: \"\";width: 100%;border-bottom: 1px solid gray;flex-grow: 1;}#sk-container-id-1 div.sk-label:hover label.sk-toggleable__label {background-color: #d4ebff;}#sk-container-id-1 div.sk-serial::before {content: \"\";position: absolute;border-left: 1px solid gray;box-sizing: border-box;top: 0;bottom: 0;left: 50%;z-index: 0;}#sk-container-id-1 div.sk-serial {display: flex;flex-direction: column;align-items: center;background-color: white;padding-right: 0.2em;padding-left: 0.2em;position: relative;}#sk-container-id-1 div.sk-item {position: relative;z-index: 1;}#sk-container-id-1 div.sk-parallel {display: flex;align-items: stretch;justify-content: center;background-color: white;position: relative;}#sk-container-id-1 div.sk-item::before, #sk-container-id-1 div.sk-parallel-item::before {content: \"\";position: absolute;border-left: 1px solid gray;box-sizing: border-box;top: 0;bottom: 0;left: 50%;z-index: -1;}#sk-container-id-1 div.sk-parallel-item {display: flex;flex-direction: column;z-index: 1;position: relative;background-color: white;}#sk-container-id-1 div.sk-parallel-item:first-child::after {align-self: flex-end;width: 50%;}#sk-container-id-1 div.sk-parallel-item:last-child::after {align-self: flex-start;width: 50%;}#sk-container-id-1 div.sk-parallel-item:only-child::after {width: 0;}#sk-container-id-1 div.sk-dashed-wrapped {border: 1px dashed gray;margin: 0 0.4em 0.5em 0.4em;box-sizing: border-box;padding-bottom: 0.4em;background-color: white;}#sk-container-id-1 div.sk-label label {font-family: monospace;font-weight: bold;display: inline-block;line-height: 1.2em;}#sk-container-id-1 div.sk-label-container {text-align: center;}#sk-container-id-1 div.sk-container {/* jupyter's `normalize.less` sets `[hidden] { display: none; }` but bootstrap.min.css set `[hidden] { display: none !important; }` so we also need the `!important` here to be able to override the default hidden behavior on the sphinx rendered scikit-learn.org. See: https://github.com/scikit-learn/scikit-learn/issues/21755 */display: inline-block !important;position: relative;}#sk-container-id-1 div.sk-text-repr-fallback {display: none;}</style><div id=\"sk-container-id-1\" class=\"sk-top-container\"><div class=\"sk-text-repr-fallback\"><pre>StandardScaler()</pre><b>In a Jupyter environment, please rerun this cell to show the HTML representation or trust the notebook. <br />On GitHub, the HTML representation is unable to render, please try loading this page with nbviewer.org.</b></div><div class=\"sk-container\" hidden><div class=\"sk-item\"><div class=\"sk-estimator sk-toggleable\"><input class=\"sk-toggleable__control sk-hidden--visually\" id=\"sk-estimator-id-1\" type=\"checkbox\" checked><label for=\"sk-estimator-id-1\" class=\"sk-toggleable__label sk-toggleable__label-arrow\">StandardScaler</label><div class=\"sk-toggleable__content\"><pre>StandardScaler()</pre></div></div></div></div></div>"
      ],
      "text/plain": [
       "StandardScaler()"
      ]
     },
     "execution_count": 7,
     "metadata": {},
     "output_type": "execute_result"
    }
   ],
   "source": [
    "from sklearn.preprocessing import StandardScaler\n",
    "scaler = StandardScaler()\n",
    "scaler.fit(X)"
   ]
  },
  {
   "cell_type": "code",
   "execution_count": 8,
   "metadata": {},
   "outputs": [],
   "source": [
    "X = scaler.transform(X)"
   ]
  },
  {
   "cell_type": "code",
   "execution_count": 9,
   "metadata": {},
   "outputs": [],
   "source": [
    "from sklearn.model_selection import train_test_split\n",
    "X_train, X_test, y_train, y_test = train_test_split(X, y, test_size=0.10)"
   ]
  },
  {
   "cell_type": "code",
   "execution_count": 10,
   "metadata": {},
   "outputs": [
    {
     "data": {
      "text/html": [
       "<style>#sk-container-id-2 {color: black;background-color: white;}#sk-container-id-2 pre{padding: 0;}#sk-container-id-2 div.sk-toggleable {background-color: white;}#sk-container-id-2 label.sk-toggleable__label {cursor: pointer;display: block;width: 100%;margin-bottom: 0;padding: 0.3em;box-sizing: border-box;text-align: center;}#sk-container-id-2 label.sk-toggleable__label-arrow:before {content: \"▸\";float: left;margin-right: 0.25em;color: #696969;}#sk-container-id-2 label.sk-toggleable__label-arrow:hover:before {color: black;}#sk-container-id-2 div.sk-estimator:hover label.sk-toggleable__label-arrow:before {color: black;}#sk-container-id-2 div.sk-toggleable__content {max-height: 0;max-width: 0;overflow: hidden;text-align: left;background-color: #f0f8ff;}#sk-container-id-2 div.sk-toggleable__content pre {margin: 0.2em;color: black;border-radius: 0.25em;background-color: #f0f8ff;}#sk-container-id-2 input.sk-toggleable__control:checked~div.sk-toggleable__content {max-height: 200px;max-width: 100%;overflow: auto;}#sk-container-id-2 input.sk-toggleable__control:checked~label.sk-toggleable__label-arrow:before {content: \"▾\";}#sk-container-id-2 div.sk-estimator input.sk-toggleable__control:checked~label.sk-toggleable__label {background-color: #d4ebff;}#sk-container-id-2 div.sk-label input.sk-toggleable__control:checked~label.sk-toggleable__label {background-color: #d4ebff;}#sk-container-id-2 input.sk-hidden--visually {border: 0;clip: rect(1px 1px 1px 1px);clip: rect(1px, 1px, 1px, 1px);height: 1px;margin: -1px;overflow: hidden;padding: 0;position: absolute;width: 1px;}#sk-container-id-2 div.sk-estimator {font-family: monospace;background-color: #f0f8ff;border: 1px dotted black;border-radius: 0.25em;box-sizing: border-box;margin-bottom: 0.5em;}#sk-container-id-2 div.sk-estimator:hover {background-color: #d4ebff;}#sk-container-id-2 div.sk-parallel-item::after {content: \"\";width: 100%;border-bottom: 1px solid gray;flex-grow: 1;}#sk-container-id-2 div.sk-label:hover label.sk-toggleable__label {background-color: #d4ebff;}#sk-container-id-2 div.sk-serial::before {content: \"\";position: absolute;border-left: 1px solid gray;box-sizing: border-box;top: 0;bottom: 0;left: 50%;z-index: 0;}#sk-container-id-2 div.sk-serial {display: flex;flex-direction: column;align-items: center;background-color: white;padding-right: 0.2em;padding-left: 0.2em;position: relative;}#sk-container-id-2 div.sk-item {position: relative;z-index: 1;}#sk-container-id-2 div.sk-parallel {display: flex;align-items: stretch;justify-content: center;background-color: white;position: relative;}#sk-container-id-2 div.sk-item::before, #sk-container-id-2 div.sk-parallel-item::before {content: \"\";position: absolute;border-left: 1px solid gray;box-sizing: border-box;top: 0;bottom: 0;left: 50%;z-index: -1;}#sk-container-id-2 div.sk-parallel-item {display: flex;flex-direction: column;z-index: 1;position: relative;background-color: white;}#sk-container-id-2 div.sk-parallel-item:first-child::after {align-self: flex-end;width: 50%;}#sk-container-id-2 div.sk-parallel-item:last-child::after {align-self: flex-start;width: 50%;}#sk-container-id-2 div.sk-parallel-item:only-child::after {width: 0;}#sk-container-id-2 div.sk-dashed-wrapped {border: 1px dashed gray;margin: 0 0.4em 0.5em 0.4em;box-sizing: border-box;padding-bottom: 0.4em;background-color: white;}#sk-container-id-2 div.sk-label label {font-family: monospace;font-weight: bold;display: inline-block;line-height: 1.2em;}#sk-container-id-2 div.sk-label-container {text-align: center;}#sk-container-id-2 div.sk-container {/* jupyter's `normalize.less` sets `[hidden] { display: none; }` but bootstrap.min.css set `[hidden] { display: none !important; }` so we also need the `!important` here to be able to override the default hidden behavior on the sphinx rendered scikit-learn.org. See: https://github.com/scikit-learn/scikit-learn/issues/21755 */display: inline-block !important;position: relative;}#sk-container-id-2 div.sk-text-repr-fallback {display: none;}</style><div id=\"sk-container-id-2\" class=\"sk-top-container\"><div class=\"sk-text-repr-fallback\"><pre>KNeighborsClassifier(n_neighbors=4)</pre><b>In a Jupyter environment, please rerun this cell to show the HTML representation or trust the notebook. <br />On GitHub, the HTML representation is unable to render, please try loading this page with nbviewer.org.</b></div><div class=\"sk-container\" hidden><div class=\"sk-item\"><div class=\"sk-estimator sk-toggleable\"><input class=\"sk-toggleable__control sk-hidden--visually\" id=\"sk-estimator-id-2\" type=\"checkbox\" checked><label for=\"sk-estimator-id-2\" class=\"sk-toggleable__label sk-toggleable__label-arrow\">KNeighborsClassifier</label><div class=\"sk-toggleable__content\"><pre>KNeighborsClassifier(n_neighbors=4)</pre></div></div></div></div></div>"
      ],
      "text/plain": [
       "KNeighborsClassifier(n_neighbors=4)"
      ]
     },
     "execution_count": 10,
     "metadata": {},
     "output_type": "execute_result"
    }
   ],
   "source": [
    "from sklearn.neighbors import KNeighborsClassifier\n",
    "classifier = KNeighborsClassifier(n_neighbors=4)\n",
    "classifier.fit(X_train, y_train)"
   ]
  },
  {
   "cell_type": "code",
   "execution_count": 11,
   "metadata": {},
   "outputs": [],
   "source": [
    "y_pred = classifier.predict(X_test)"
   ]
  },
  {
   "cell_type": "code",
   "execution_count": 12,
   "metadata": {},
   "outputs": [
    {
     "name": "stdout",
     "output_type": "stream",
     "text": [
      "[[714  46  37  23  79  30  19  65   6]\n",
      " [ 32 912  15   3  52  26   2   0   0]\n",
      " [ 59  37 184   5  49  11   4  12   1]\n",
      " [  2   1   2 172   0   0   1   0   0]\n",
      " [100 236  77   7 579  35   4  21   1]\n",
      " [ 37 105  22   2  25 717   7  56   0]\n",
      " [  3   0   1   2   0   0 218   0   0]\n",
      " [ 63  47  28  23  45 140  16 595   3]\n",
      " [ 13   0   5   1   0   0   0  18  19]]\n",
      "              precision    recall  f1-score   support\n",
      "\n",
      "           0       0.70      0.70      0.70      1019\n",
      "           1       0.66      0.88      0.75      1042\n",
      "           2       0.50      0.51      0.50       362\n",
      "           3       0.72      0.97      0.83       178\n",
      "           4       0.70      0.55      0.61      1060\n",
      "           5       0.75      0.74      0.74       971\n",
      "           6       0.80      0.97      0.88       224\n",
      "           7       0.78      0.62      0.69       960\n",
      "           8       0.63      0.34      0.44        56\n",
      "\n",
      "    accuracy                           0.70      5872\n",
      "   macro avg       0.69      0.70      0.68      5872\n",
      "weighted avg       0.70      0.70      0.69      5872\n",
      "\n"
     ]
    }
   ],
   "source": [
    "from sklearn.metrics import classification_report, confusion_matrix\n",
    "print(confusion_matrix(y_test, y_pred))\n",
    "print(classification_report(y_test, y_pred))"
   ]
  },
  {
   "cell_type": "code",
   "execution_count": 34,
   "metadata": {},
   "outputs": [
    {
     "name": "stdout",
     "output_type": "stream",
     "text": [
      "[0.7949025  0.78994184 0.78977078 0.78857338 0.8032843  0.79148135\n",
      " 0.79387615 0.79178785 0.79041916 0.79007699]\n"
     ]
    }
   ],
   "source": [
    "from sklearn.model_selection import KFold, cross_val_score\n",
    "\n",
    "n_splits = 10\n",
    "kf = KFold(n_splits)\n",
    "\n",
    "scores = cross_val_score(classifier, X, y, cv=10, scoring='accuracy')\n",
    "print(scores)"
   ]
  }
 ],
 "metadata": {
  "kernelspec": {
   "display_name": "Python 3.10.4 ('emb')",
   "language": "python",
   "name": "python3"
  },
  "language_info": {
   "codemirror_mode": {
    "name": "ipython",
    "version": 3
   },
   "file_extension": ".py",
   "mimetype": "text/x-python",
   "name": "python",
   "nbconvert_exporter": "python",
   "pygments_lexer": "ipython3",
   "version": "3.10.4"
  },
  "orig_nbformat": 4,
  "vscode": {
   "interpreter": {
    "hash": "1d6f8279d2597ff45ee770ed4342a0dece014d3ce45da13aa807c7d2ae1a3f5a"
   }
  }
 },
 "nbformat": 4,
 "nbformat_minor": 2
}
